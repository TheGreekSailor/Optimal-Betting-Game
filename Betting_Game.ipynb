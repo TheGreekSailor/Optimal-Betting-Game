{
 "cells": [
  {
   "cell_type": "markdown",
   "id": "2e8ff000-26c8-463c-98c3-232d674f217b",
   "metadata": {},
   "source": [
    "## Optimal betting strategy in a multi-round die tossing game with non-linear payout multipliers\n",
    "\n",
    "### Description\n",
    "\n",
    "You are participating in a multi-round betting game with two players. In each round, both players place their bets simultaneously without knowing the other's bet. The outcome of each round is determined by rolling a fair 6-sided die. The payout structure is as follows:\n",
    "\n",
    "- If the outcome is 1 or 2, Player A wins and receives a payout based on their bet.\n",
    "- If the outcome is 3 or 4, Player B wins and receives a payout based on their bet.\n",
    "- If the outcome is 5 or 6, both players lose their bets.\n",
    "\n",
    "Each player has an initial amount of W1 and W2 dollars, respectively. The game lasts for n rounds. Players can bet up to 10% of their net worth at every round. The payout multiplier function is:\n",
    "\n",
    "- Player A's payout multiplier is k_A(bet_A) = 1 + log(1 + bet_A) where bet_A is the bet amount of player A at each round\n",
    "- Player B's payout multiplier is k_B(bet_B) = 2 + sqrt(bet_B) where bet_B is the bet amount of player B at each round \n",
    "\n",
    "Your task is to determine the optimal betting strategy for Player A to maximize their expected total amount after n rounds, considering Player B is also trying to maximize their payout."
   ]
  },
  {
   "cell_type": "code",
   "execution_count": 21,
   "id": "c11f0084-9dd6-4e6a-a389-ec8a9477c986",
   "metadata": {},
   "outputs": [],
   "source": [
    "import math\n",
    "import matplotlib.pyplot as plt\n",
    "from tqdm import tqdm"
   ]
  },
  {
   "cell_type": "code",
   "execution_count": 22,
   "id": "5c4e70f9-f822-4f93-b033-90744135aedc",
   "metadata": {},
   "outputs": [],
   "source": [
    "def E_A(bet_A):\n",
    "    return 1/3 * (1 + math.log(1 + bet_A)) * bet_A - 1/3 * bet_A"
   ]
  },
  {
   "cell_type": "code",
   "execution_count": 23,
   "id": "4d92c114-1222-4c2b-a7a1-66d0b6343126",
   "metadata": {},
   "outputs": [],
   "source": [
    "def E_B(bet_B):\n",
    "    return 1/3 * (2 + math.sqrt(bet_B)) *bet_B - 1/3 * bet_B"
   ]
  },
  {
   "cell_type": "code",
   "execution_count": 24,
   "id": "82126eca-f5a1-4642-ae86-31e07f88edab",
   "metadata": {},
   "outputs": [],
   "source": [
    "def derivative_E_A(x):\n",
    "    #Calculate the derivative manually\n",
    "    return 1/3 * (math.log(1+x) + (x /(1+x)))"
   ]
  },
  {
   "cell_type": "code",
   "execution_count": 25,
   "id": "294d07f1-34b0-4ed8-9455-eda2b3b263b7",
   "metadata": {},
   "outputs": [],
   "source": [
    "def derivative_E_B(x):\n",
    "    #Calculate the derivative manually\n",
    "    return 1/3 * (1 + 3/2 * math.sqrt(x))"
   ]
  },
  {
   "cell_type": "code",
   "execution_count": 26,
   "id": "17fc311e-52ae-4557-b418-3d8cbf58df12",
   "metadata": {},
   "outputs": [],
   "source": [
    "def find_max_payout(step,W, player):\n",
    "    optimal_bet = 0;\n",
    "    max_bet = 0.1 * W;\n",
    "    max_EV = float('-inf')\n",
    "    #Iterative approach\n",
    "    for bet in tqdm(range(0,int(max_bet/step + 1))):\n",
    "        bet = bet * step\n",
    "        if player == 'A':\n",
    "            temp = derivative_E_A(bet);\n",
    "        else:\n",
    "            temp = derivative_E_B(bet);\n",
    "        if temp > 0 and bet <= W:\n",
    "            EV = E_A(temp) if player == 'A' else E_B(temp);\n",
    "            if EV > max_EV:\n",
    "                max_EV = EV;\n",
    "                optimal_bet = bet;\n",
    "    return optimal_bet\n",
    "    "
   ]
  },
  {
   "cell_type": "code",
   "execution_count": 27,
   "id": "15a1e607-f802-4263-bd49-a49905aa7965",
   "metadata": {},
   "outputs": [],
   "source": [
    "def optimal_strategy(W_A, W_B,n):\n",
    "    #Iterative approach\n",
    "    step = 1\n",
    "    total_W_A = W_A\n",
    "    total_W_B = W_B\n",
    "    optimal_bets_A = [];\n",
    "    optimal_bets_B = [];\n",
    "    wealth_A = [W_A]\n",
    "    wealth_B = [W_B]\n",
    "    \n",
    "    \n",
    "    for i in tqdm(range(n)):\n",
    "        optimal_bet_A = find_max_payout(step, total_W_A,'A')\n",
    "        optimal_bet_B = find_max_payout(step, total_W_B,'B')\n",
    "        optimal_bets_A.append(round(optimal_bet_A,4));\n",
    "        optimal_bets_B.append(round(optimal_bet_B,4));\n",
    "        \n",
    "        total_W_A += round(E_A(optimal_bet_A),4)\n",
    "        wealth_A.append(total_W_A)\n",
    "        total_W_B += round(E_B(optimal_bet_B),4)\n",
    "        wealth_B.append(total_W_B)\n",
    "    return total_W_A, total_W_B,optimal_bets_A, optimal_bets_B, wealth_A, wealth_B"
   ]
  },
  {
   "cell_type": "code",
   "execution_count": 28,
   "id": "e9b54e33-53ee-40ef-96cd-a2dbde8b4eb3",
   "metadata": {},
   "outputs": [
    {
     "name": "stderr",
     "output_type": "stream",
     "text": [
      "  0%|          | 0/10 [00:00<?, ?it/s]\n",
      "100%|██████████| 11/11 [00:00<?, ?it/s][A\n",
      "\n",
      "100%|██████████| 11/11 [00:00<?, ?it/s][A\n",
      "\n",
      "100%|██████████| 11/11 [00:00<?, ?it/s][A\n",
      "\n",
      "100%|██████████| 12/12 [00:00<?, ?it/s][A\n",
      "\n",
      "100%|██████████| 12/12 [00:00<?, ?it/s][A\n",
      "\n",
      "100%|██████████| 13/13 [00:00<?, ?it/s][A\n",
      "\n",
      "100%|██████████| 13/13 [00:00<?, ?it/s][A\n",
      "\n",
      "100%|██████████| 15/15 [00:00<00:00, 14993.94it/s]\n",
      "\n",
      "100%|██████████| 14/14 [00:00<?, ?it/s][A\n",
      "\n",
      "100%|██████████| 17/17 [00:00<?, ?it/s][A\n",
      "\n",
      "100%|██████████| 15/15 [00:00<?, ?it/s][A\n",
      "\n",
      "100%|██████████| 20/20 [00:00<?, ?it/s][A\n",
      "\n",
      "100%|██████████| 16/16 [00:00<?, ?it/s][A\n",
      "\n",
      "100%|██████████| 24/24 [00:00<?, ?it/s][A\n",
      "\n",
      "100%|██████████| 18/18 [00:00<?, ?it/s][A\n",
      "\n",
      "100%|██████████| 28/28 [00:00<?, ?it/s][A\n",
      "\n",
      "100%|██████████| 19/19 [00:00<?, ?it/s][A\n",
      "\n",
      "100%|██████████| 34/34 [00:00<?, ?it/s][A\n",
      "\n",
      "100%|██████████| 21/21 [00:00<00:00, 21076.90it/s]\n",
      "\n",
      "100%|██████████| 41/41 [00:00<?, ?it/s][A\n",
      "100%|██████████| 10/10 [00:00<00:00, 108.76it/s]\n"
     ]
    }
   ],
   "source": [
    "total_W_A, total_W_B,optimal_bets_A, optimal_bets_B, wealth_A, wealth_B = optimal_strategy(100, 100, 10)"
   ]
  },
  {
   "cell_type": "code",
   "execution_count": 36,
   "id": "d5d85c04-ffc9-4060-af2c-890e541b53a7",
   "metadata": {},
   "outputs": [
    {
     "data": {
      "text/plain": [
       "Text(0.5, 0, 'Number of rounds')"
      ]
     },
     "execution_count": 36,
     "metadata": {},
     "output_type": "execute_result"
    },
    {
     "data": {
      "image/png": "[encoded data removed]",
      "text/plain": [
       "<Figure size 720x360 with 1 Axes>"
      ]
     },
     "metadata": {
      "needs_background": "light"
     },
     "output_type": "display_data"
    }
   ],
   "source": [
    "plt.figure(figsize = (10,5))\n",
    "plt.plot(range(0,11), wealth_A)\n",
    "plt.scatter(range(0,11), wealth_A)\n",
    "plt.plot(range(0,11), wealth_B)\n",
    "plt.scatter(range(0,11), wealth_B)\n",
    "plt.title(\"Expected wealth of players over time choosing the optimal betting strategy\")\n",
    "plt.ylabel(\"$ amount\")\n",
    "plt.xlabel(\"Number of rounds\")"
   ]
  },
  {
   "cell_type": "code",
   "execution_count": 39,
   "id": "f188ba94-43ce-41e0-90c1-ff5dcf1dfa37",
   "metadata": {},
   "outputs": [
    {
     "data": {
      "text/plain": [
       "Text(0.5, 0, 'Number of rounds')"
      ]
     },
     "execution_count": 39,
     "metadata": {},
     "output_type": "execute_result"
    },
    {
     "data": {
      "image/png": "[encoded data removed]",
      "text/plain": [
       "<Figure size 720x360 with 1 Axes>"
      ]
     },
     "metadata": {
      "needs_background": "light"
     },
     "output_type": "display_data"
    }
   ],
   "source": [
    "plt.figure(figsize = (10,5))\n",
    "plt.plot(range(0,10), optimal_bets_A)\n",
    "plt.scatter(range(0,10), optimal_bets_A)\n",
    "plt.plot(range(0,10), optimal_bets_B)\n",
    "plt.scatter(range(0,10), optimal_bets_B)\n",
    "plt.title(\"Optimal betting size of each player at each round\")\n",
    "plt.ylabel(\"$ amount\")\n",
    "plt.xlabel(\"Number of rounds\")"
   ]
  },
  {
   "cell_type": "code",
   "execution_count": null,
   "id": "344cfe96-5ce9-4194-bcd2-61b346efc9bf",
   "metadata": {},
   "outputs": [],
   "source": []
  }
 ],
 "metadata": {
  "kernelspec": {
   "display_name": "Python 3 (ipykernel)",
   "language": "python",
   "name": "python3"
  },
  "language_info": {
   "codemirror_mode": {
    "name": "ipython",
    "version": 3
   },
   "file_extension": ".py",
   "mimetype": "text/x-python",
   "name": "python",
   "nbconvert_exporter": "python",
   "pygments_lexer": "ipython3",
   "version": "3.9.7"
  }
 },
 "nbformat": 4,
 "nbformat_minor": 5
}
